{
  "cells": [
    {
      "cell_type": "markdown",
      "metadata": {
        "id": "view-in-github"
      },
      "source": [
        "[![Open In Colab](https://colab.research.google.com/assets/colab-badge.svg)](https://colab.research.google.com/github/russellpwirtz/llm-playground/blob/main/llama-2.ipynb)"
      ]
    },
    {
      "cell_type": "code",
      "execution_count": null,
      "metadata": {
        "id": "VCFOzsQSHbjM"
      },
      "outputs": [],
      "source": [
        "%cd /content\n",
        "!apt-get -y install -qq aria2\n",
        "\n",
        "!git clone https://github.com/oobabooga/one-click-installers\n",
        "%cd /content/one-click-installers\n",
        "\n",
        "!chmod +x start_linux.sh\n"
      ]
    },
    {
      "cell_type": "markdown",
      "metadata": {},
      "source": [
        "## To run:\n",
        "- Open webui.py, update CMD_FLAGS to include a sharable link:\n",
        "> CMD_FLAGS = '--share'\n",
        "- Start script below\n",
        "- Click gradio.live link\n",
        "- Go to Models -> Download \n",
        "- Paste \"TheBloke/Llama-2-13B-chat-GPTQ\" in form and click Download\n",
        "- Refresh downloads, select and load\n",
        "- Configuration settings:\n",
        "> AutoGPTQ\\\n",
        "> wbits: 4\\\n",
        "> groupsize: 128\\\n",
        "> model: llama\\\n",
        "> gpu-memory in MiB: 15100\n"
      ]
    },
    {
      "cell_type": "code",
      "execution_count": null,
      "metadata": {},
      "outputs": [],
      "source": [
        "\n",
        "!./start_linux.sh"
      ]
    }
  ],
  "metadata": {
    "accelerator": "GPU",
    "colab": {
      "provenance": []
    },
    "gpuClass": "standard",
    "kernelspec": {
      "display_name": "Python 3",
      "name": "python3"
    },
    "language_info": {
      "name": "python"
    }
  },
  "nbformat": 4,
  "nbformat_minor": 0
}
