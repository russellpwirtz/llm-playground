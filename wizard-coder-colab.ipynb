{
  "cells": [
    {
      "cell_type": "markdown",
      "metadata": {
        "id": "view-in-github"
      },
      "source": [
        "[![Open In Colab](https://colab.research.google.com/assets/colab-badge.svg)](https://colab.research.google.com/github/russellpwirtz/llm-playground/blob/main/wizard-coder-colab.ipynb)"
      ]
    },
    {
      "cell_type": "code",
      "execution_count": null,
      "metadata": {
        "id": "VCFOzsQSHbjM"
      },
      "outputs": [],
      "source": [
        "# Setup\n",
        "\n",
        "%cd /content\n",
        "!apt-get -y install -qq aria2\n",
        "\n",
        "!git clone -b v1.3 https://github.com/camenduru/text-generation-webui\n",
        "%cd /content/text-generation-webui\n",
        "!pip install -r requirements.txt\n",
        "!pip install -U gradio==3.28.3\n",
        "\n",
        "!mkdir /content/text-generation-webui/repositories\n",
        "%cd /content/text-generation-webui/repositories\n",
        "!git clone -b cuda https://github.com/camenduru/GPTQ-for-LLaMa.git\n",
        "%cd GPTQ-for-LLaMa\n",
        "!python setup_cuda.py install\n",
        "\n",
        "%cd /content/text-generation-webui\n"
      ]
    },
    {
      "cell_type": "code",
      "execution_count": null,
      "metadata": {},
      "outputs": [],
      "source": [
        "# Model download\n",
        "\n",
        "# MODEL_NAME='WizardCoder-15B-1.0-GPTQ'\n",
        "MODEL_NAME='WizardCoder-Guanaco-15B-V1.1-GPTQ'\n",
        "\n",
        "REPO_NAME = f'https://huggingface.co/TheBloke/{MODEL_NAME}'\n",
        "SAFETENSORS_FILE = 'gptq_model-4bit-128g.safetensors'\n",
        "\n",
        "print('Downloading model files...')\n",
        "files = ['config.json', 'generation_config.json', 'special_tokens_map.json', 'added_tokens.json', 'tokenizer_config.json', 'quantize_config.json', 'generation_config.json', 'tokenizer.json','vocab.json', ]\n",
        "\n",
        "!aria2c --console-log-level=error -c -x 16 -s 16 -k 1M '{REPO_NAME}/resolve/main/{SAFETENSORS_FILE}' -d 'models/{MODEL_NAME}' -o '{SAFETENSORS_FILE}'\n",
        "\n",
        "for file in files:\n",
        "  !aria2c --console-log-level=error -c -x 16 -s 16 -k 1M '{REPO_NAME}/raw/main/{file}' -d 'models/{MODEL_NAME}' -o '{file}'\n",
        "  "
      ]
    },
    {
      "cell_type": "code",
      "execution_count": null,
      "metadata": {},
      "outputs": [],
      "source": [
        "# Start app\n",
        "\n",
        "!python server.py --share --chat --wbits 4 --groupsize 128 --model_type llama --model {MODEL_NAME}"
      ]
    }
  ],
  "metadata": {
    "accelerator": "GPU",
    "colab": {
      "provenance": []
    },
    "gpuClass": "standard",
    "kernelspec": {
      "display_name": "Python 3",
      "name": "python3"
    },
    "language_info": {
      "name": "python"
    }
  },
  "nbformat": 4,
  "nbformat_minor": 0
}
